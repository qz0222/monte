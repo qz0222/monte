{
 "cells": [
  {
   "cell_type": "markdown",
   "metadata": {},
   "source": [
    "# <center>Multiple stock models</center>  \n",
    "\n",
    "**Ito's formula(n-factor)**  \n",
    "If X is a stochastic process,satisfying $dX_t=\\sum \\sigma_i(t)dW_t^i+\\mu _tdt$,and f is a deterministic twice continuously differentiable function,then $Y_t=f(X_t)$ is also a stochastic process with stochastic increment.\n",
    "$$\n",
    "dY_t=\\sum_{i=1}^{n}\\left(\\sigma_i(t)f^\\prime(X_t)\\right)dW_t^i+\\left (\\mu_t f^\\prime(X_t)+\\frac{1}{2}\\sum_{i=1}^{n}\\sigma_i^2(t)f''(X_t)\\right)dt\n",
    "$$\n",
    "\n",
    "\n",
    "\n",
    "\n",
    "\n",
    "\n",
    "\n",
    "\n",
    "**Carmeron-Martin-Girsanov theorem (n-factor)**  \n",
    "Let $W=(W^1,\\cdots,W^n)$ be n-dimensional P-Brownian motion.Suppose that $\\gamma_t=(\\gamma_t^1,\\cdots,\\gamma_t^n)$ is an $\\mathcal {F}$-previsible n-vector process which satisfies the growth condition $E_Pe^{(\\frac{1}{2}\\int_{0}^{T}|\\gamma_t^2|dt)}<\\infty$,and we set $\\tilde W_t^i=W_t^i+\\int_{0}^{t}\\gamma_s^ids$.Then there is a new measure Q,equivalent to P up to time T,such that $\\tilde W=(\\tilde W^1,\\cdots,\\tilde W^n)$ is n-dimensional Q-Brownian motion up to time T.  \n",
    "The Radon-Nikodym derivative of Q by P is\n",
    "$$\n",
    "\\frac{dQ}{dP}=e^{(-\\sum_{i=1}^{n}\\int_{0}^{T}\\gamma_t^idW_t^i-\\frac{1}{2}\\int_{0}^{T}|\\gamma_t|^2dt)}\n",
    "$$\n",
    "\n",
    "\n",
    "\n",
    "**Product rule(n-factor)**  \n",
    "If X is a stochastic process satisfying $dX_t=\\sum\\sigma_i(t)dW_t^i+\\mu_tdt$,and Y is a stochastic process satisfying $dY_t=\\sum \\rho_idW_t^i+v_tdt$,then $X_tY_t$ is a stochastic process satisfying\n",
    "$$\n",
    "d(X_tY_t)=X_tdY_t+Y_tdX_t+\\left(\\sum_{i=1}^{n}\\sigma_i(t)\\rho_i(t)\\right)dt\n",
    "$$\n"
   ]
  },
  {
   "cell_type": "code",
   "execution_count": null,
   "metadata": {
    "collapsed": true
   },
   "outputs": [],
   "source": []
  }
 ],
 "metadata": {
  "kernelspec": {
   "display_name": "Python 2",
   "language": "python",
   "name": "python2"
  },
  "language_info": {
   "codemirror_mode": {
    "name": "ipython",
    "version": 2
   },
   "file_extension": ".py",
   "mimetype": "text/x-python",
   "name": "python",
   "nbconvert_exporter": "python",
   "pygments_lexer": "ipython2",
   "version": "2.7.12"
  }
 },
 "nbformat": 4,
 "nbformat_minor": 2
}
